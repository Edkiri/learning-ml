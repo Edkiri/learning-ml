{
 "cells": [
  {
   "cell_type": "code",
   "execution_count": 7,
   "id": "02de66ae",
   "metadata": {},
   "outputs": [
    {
     "data": {
      "text/plain": [
       "count       6,196\n",
       "mean    1,068,828\n",
       "std       675,156\n",
       "min       131,000\n",
       "25%       620,000\n",
       "50%       880,000\n",
       "75%     1,325,000\n",
       "max     9,000,000\n",
       "Name: Price, dtype: float64"
      ]
     },
     "execution_count": 7,
     "metadata": {},
     "output_type": "execute_result"
    }
   ],
   "source": [
    "import pandas as pd\n",
    "\n",
    "pd.set_option('display.float_format', lambda x: '{:,.0f}'.format(x))\n",
    "\n",
    "data = pd.read_csv('melb_data.csv')\n",
    "filtered_data = data.dropna(axis=0)\n",
    "\n",
    "y = filtered_data.Price\n",
    "feature_columns = [\n",
    "    'Rooms',\n",
    "    'Distance', \n",
    "    'Postcode', \n",
    "    'Bedroom2', \n",
    "    'Bathroom', \n",
    "    'Car',\n",
    "    'Landsize', \n",
    "    'BuildingArea', \n",
    "    'YearBuilt',\n",
    "    'Lattitude', \n",
    "    'Longtitude',\n",
    "    'Distance'\n",
    "]\n",
    "X = filtered_data[feature_columns]\n",
    "\n",
    "y.describe()"
   ]
  },
  {
   "cell_type": "code",
   "execution_count": 2,
   "id": "bade5d23",
   "metadata": {},
   "outputs": [
    {
     "name": "stdout",
     "output_type": "stream",
     "text": [
      "[1133675.         1592875.         1376500.         ...  274695.65217391\n",
      "  489104.03389831 2372500.        ]\n"
     ]
    }
   ],
   "source": [
    "from sklearn.tree import DecisionTreeRegressor\n",
    "\n",
    "model = DecisionTreeRegressor(max_leaf_nodes=1000, random_state=1)\n",
    "model.fit(X, y)\n",
    "predicted = model.predict(X)\n",
    "print(predicted)"
   ]
  },
  {
   "cell_type": "code",
   "execution_count": 3,
   "id": "5782221a",
   "metadata": {},
   "outputs": [
    {
     "name": "stdout",
     "output_type": "stream",
     "text": [
      "74180.88910360944\n"
     ]
    }
   ],
   "source": [
    "from sklearn.metrics import mean_absolute_error\n",
    "\n",
    "mae = mean_absolute_error(y, predicted)\n",
    "print(mae)"
   ]
  },
  {
   "cell_type": "code",
   "execution_count": 4,
   "id": "461836b6",
   "metadata": {},
   "outputs": [
    {
     "name": "stdout",
     "output_type": "stream",
     "text": [
      "1    1035000.0\n",
      "2    1465000.0\n",
      "4    1600000.0\n",
      "6    1876000.0\n",
      "7    1636000.0\n",
      "Name: Price, dtype: float64\n",
      "[1133675.         1592875.         1376500.         1842357.14285714\n",
      " 1628750.        ]\n"
     ]
    }
   ],
   "source": [
    "print(y.head())\n",
    "print(predicted[:5])"
   ]
  },
  {
   "cell_type": "code",
   "execution_count": null,
   "id": "3080cb81",
   "metadata": {},
   "outputs": [],
   "source": []
  }
 ],
 "metadata": {
  "kernelspec": {
   "display_name": "Python 3 (ipykernel)",
   "language": "python",
   "name": "python3"
  },
  "language_info": {
   "codemirror_mode": {
    "name": "ipython",
    "version": 3
   },
   "file_extension": ".py",
   "mimetype": "text/x-python",
   "name": "python",
   "nbconvert_exporter": "python",
   "pygments_lexer": "ipython3",
   "version": "3.11.5"
  }
 },
 "nbformat": 4,
 "nbformat_minor": 5
}
