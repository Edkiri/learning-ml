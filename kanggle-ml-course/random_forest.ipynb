{
 "cells": [
  {
   "cell_type": "code",
   "execution_count": 1,
   "id": "ea6de683",
   "metadata": {},
   "outputs": [
    {
     "data": {
      "text/plain": [
       "count       6,830\n",
       "mean    1,077,604\n",
       "std       673,320\n",
       "min       131,000\n",
       "25%       630,000\n",
       "50%       890,000\n",
       "75%     1,334,000\n",
       "max     9,000,000\n",
       "Name: Price, dtype: float64"
      ]
     },
     "execution_count": 1,
     "metadata": {},
     "output_type": "execute_result"
    }
   ],
   "source": [
    "import pandas as pd\n",
    "\n",
    "data = pd.read_csv('melb_data.csv')\n",
    "pd.set_option('display.float_format', lambda x: '{:,.0f}'.format(x))\n",
    "feature_columns = [\n",
    "    'Rooms',\n",
    "    'Distance', \n",
    "    'Postcode', \n",
    "    'Bedroom2', \n",
    "    'Bathroom', \n",
    "    'Car',\n",
    "    'Landsize', \n",
    "    'BuildingArea', \n",
    "    'YearBuilt',\n",
    "    'Lattitude', \n",
    "    'Longtitude',\n",
    "]\n",
    "\n",
    "filtered_data = data[['Price'] + feature_columns].dropna(axis=0)\n",
    "\n",
    "y = filtered_data.Price\n",
    "\n",
    "X = filtered_data[feature_columns]\n",
    "\n",
    "y.describe()"
   ]
  },
  {
   "cell_type": "code",
   "execution_count": 2,
   "id": "403b3bac",
   "metadata": {},
   "outputs": [],
   "source": [
    "from sklearn.model_selection import train_test_split\n",
    "\n",
    "train_X, val_X, train_y, val_y = train_test_split(X, y, random_state = 1)"
   ]
  },
  {
   "cell_type": "code",
   "execution_count": 3,
   "id": "76e31d20",
   "metadata": {},
   "outputs": [
    {
     "name": "stdout",
     "output_type": "stream",
     "text": [
      "62367.02016331385\n"
     ]
    }
   ],
   "source": [
    "from sklearn.ensemble import RandomForestRegressor\n",
    "from sklearn.metrics import mean_absolute_error\n",
    "\n",
    "leaft = 4000\n",
    "\n",
    "forest_model = RandomForestRegressor(max_leaf_nodes=leaft, random_state = 1)\n",
    "\n",
    "forest_model.fit(X, y)\n",
    "melb_preds = forest_model.predict(X)\n",
    "\n",
    "print(mean_absolute_error(melb_preds, y))"
   ]
  },
  {
   "cell_type": "code",
   "execution_count": 5,
   "id": "5f67fbdb",
   "metadata": {},
   "outputs": [
    {
     "name": "stdout",
     "output_type": "stream",
     "text": [
      "9260.670653195837\n"
     ]
    }
   ],
   "source": [
    "from sklearn.tree import DecisionTreeRegressor\n",
    "from sklearn.model_selection import train_test_split\n",
    "\n",
    "tree_model = DecisionTreeRegressor(max_leaf_nodes=4000, random_state = 1)\n",
    "                                   \n",
    "train_X, val_X, train_y, val_y = train_test_split(X, y, random_state=1)\n",
    "                                   \n",
    "tree_model.fit(X, y)\n",
    "melb_preds_tree = tree_model.predict(X)\n",
    "print(mean_absolute_error(melb_preds_tree, y))"
   ]
  },
  {
   "cell_type": "code",
   "execution_count": null,
   "id": "6e2d1fc4",
   "metadata": {},
   "outputs": [],
   "source": []
  }
 ],
 "metadata": {
  "kernelspec": {
   "display_name": "Python 3 (ipykernel)",
   "language": "python",
   "name": "python3"
  },
  "language_info": {
   "codemirror_mode": {
    "name": "ipython",
    "version": 3
   },
   "file_extension": ".py",
   "mimetype": "text/x-python",
   "name": "python",
   "nbconvert_exporter": "python",
   "pygments_lexer": "ipython3",
   "version": "3.11.5"
  }
 },
 "nbformat": 4,
 "nbformat_minor": 5
}
